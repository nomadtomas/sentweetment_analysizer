{
 "cells": [
  {
   "cell_type": "code",
   "execution_count": 3,
   "metadata": {},
   "outputs": [],
   "source": [
    "import pandas as pd\n",
    "import numpy as np\n",
    "from tweepy.streaming import StreamListener\n",
    "from tweepy import OAuthHandler, Stream, API, Cursor, OAuthHandler\n",
    "import tweetercred"
   ]
  },
  {
   "cell_type": "code",
   "execution_count": 28,
   "metadata": {},
   "outputs": [],
   "source": [
    "from twitterscraper import query_tweets, query_tweets_from_user"
   ]
  },
  {
   "cell_type": "code",
   "execution_count": 4,
   "metadata": {},
   "outputs": [],
   "source": [
    "import requests\n",
    "import pymongo\n",
    "import datetime as dt"
   ]
  },
  {
   "cell_type": "code",
   "execution_count": 53,
   "metadata": {},
   "outputs": [
    {
     "name": "stdout",
     "output_type": "stream",
     "text": [
      "/bin/sh: GetOldTweets3: command not found\r\n"
     ]
    }
   ],
   "source": [
    "# !GetOldTweets3 --username \"MikeBloomberg\" --since 2008-12-01 --until 2020-02-24"
   ]
  },
  {
   "cell_type": "code",
   "execution_count": 5,
   "metadata": {},
   "outputs": [],
   "source": [
    "#creates connection to mongodb database table\n",
    "client = pymongo.MongoClient()\n",
    "db = client.tweeter\n",
    "collections = db.bloomber_tweets"
   ]
  },
  {
   "cell_type": "code",
   "execution_count": null,
   "metadata": {},
   "outputs": [],
   "source": []
  },
  {
   "cell_type": "code",
   "execution_count": 8,
   "metadata": {},
   "outputs": [],
   "source": [
    "bloomberg_df = pd.read_csv('output_got.csv')"
   ]
  },
  {
   "cell_type": "code",
   "execution_count": null,
   "metadata": {},
   "outputs": [],
   "source": []
  },
  {
   "cell_type": "code",
   "execution_count": 10,
   "metadata": {},
   "outputs": [],
   "source": [
    "bern_collections = db.bernie_tweets\n",
    "joe_collections = db.joe_tweets\n",
    "pete_collections = db.pete_tweets\n",
    "amy_collections = db.amy_tweets\n",
    "warren_collections = db.warren_tweets\n",
    "bloomber_collections = db.bloomber_tweets"
   ]
  },
  {
   "cell_type": "code",
   "execution_count": 12,
   "metadata": {},
   "outputs": [],
   "source": [
    "bern_collections.insert_many(bernie_df.to_dict('records'))\n",
    "joe_collections.insert_many(joe_df.to_dic t('records'))\n",
    "pete_collections.insert_many(pete.to_dict('records'))\n",
    "amy_collections.insert_many(amy_df.to_dict('records'))\n",
    "warren_collections.insert_many(warren_df.to_dict('records'))\n",
    "bloomber_collections.insert_many(bloomberg_df.to_dict('records'))"
   ]
  },
  {
   "cell_type": "code",
   "execution_count": null,
   "metadata": {},
   "outputs": [],
   "source": []
  },
  {
   "cell_type": "code",
   "execution_count": null,
   "metadata": {},
   "outputs": [],
   "source": []
  }
 ],
 "metadata": {
  "kernelspec": {
   "display_name": "Python 3",
   "language": "python",
   "name": "python3"
  },
  "language_info": {
   "codemirror_mode": {
    "name": "ipython",
    "version": 3
   },
   "file_extension": ".py",
   "mimetype": "text/x-python",
   "name": "python",
   "nbconvert_exporter": "python",
   "pygments_lexer": "ipython3",
   "version": "3.7.4"
  }
 },
 "nbformat": 4,
 "nbformat_minor": 2
}
